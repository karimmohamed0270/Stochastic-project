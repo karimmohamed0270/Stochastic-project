{
 "cells": [
  {
   "cell_type": "code",
   "execution_count": 28,
   "id": "4a52f284",
   "metadata": {},
   "outputs": [],
   "source": [
    "import pandas as pd \n",
    "import json\n",
    "import numpy as np \n",
    "import datetime\n",
    "from random import randint"
   ]
  },
  {
   "cell_type": "code",
   "execution_count": 29,
   "id": "598fbd5d",
   "metadata": {},
   "outputs": [],
   "source": [
    "df=pd.read_excel(\"downloads/stochastic data2.xlsx\")"
   ]
  },
  {
   "cell_type": "code",
   "execution_count": 30,
   "id": "39aa4bef",
   "metadata": {},
   "outputs": [
    {
     "data": {
      "text/html": [
       "<div>\n",
       "<style scoped>\n",
       "    .dataframe tbody tr th:only-of-type {\n",
       "        vertical-align: middle;\n",
       "    }\n",
       "\n",
       "    .dataframe tbody tr th {\n",
       "        vertical-align: top;\n",
       "    }\n",
       "\n",
       "    .dataframe thead th {\n",
       "        text-align: right;\n",
       "    }\n",
       "</style>\n",
       "<table border=\"1\" class=\"dataframe\">\n",
       "  <thead>\n",
       "    <tr style=\"text-align: right;\">\n",
       "      <th></th>\n",
       "      <th>Date</th>\n",
       "      <th>Open</th>\n",
       "      <th>High</th>\n",
       "      <th>Low</th>\n",
       "      <th>Close</th>\n",
       "      <th>Adj Close</th>\n",
       "      <th>Volume</th>\n",
       "    </tr>\n",
       "  </thead>\n",
       "  <tbody>\n",
       "    <tr>\n",
       "      <th>0</th>\n",
       "      <td>2022-12-15</td>\n",
       "      <td>3958.37</td>\n",
       "      <td>3958.37</td>\n",
       "      <td>3879.45</td>\n",
       "      <td>3895.75</td>\n",
       "      <td>3895.75</td>\n",
       "      <td>4493900000</td>\n",
       "    </tr>\n",
       "    <tr>\n",
       "      <th>1</th>\n",
       "      <td>2022-12-14</td>\n",
       "      <td>4015.54</td>\n",
       "      <td>4053.76</td>\n",
       "      <td>3965.65</td>\n",
       "      <td>3995.32</td>\n",
       "      <td>3995.32</td>\n",
       "      <td>4472340000</td>\n",
       "    </tr>\n",
       "    <tr>\n",
       "      <th>2</th>\n",
       "      <td>2022-12-13</td>\n",
       "      <td>4069.38</td>\n",
       "      <td>4100.96</td>\n",
       "      <td>3993.03</td>\n",
       "      <td>4019.65</td>\n",
       "      <td>4019.65</td>\n",
       "      <td>5079360000</td>\n",
       "    </tr>\n",
       "    <tr>\n",
       "      <th>3</th>\n",
       "      <td>2022-12-12</td>\n",
       "      <td>3939.29</td>\n",
       "      <td>3990.71</td>\n",
       "      <td>3935.30</td>\n",
       "      <td>3990.56</td>\n",
       "      <td>3990.56</td>\n",
       "      <td>3904130000</td>\n",
       "    </tr>\n",
       "    <tr>\n",
       "      <th>4</th>\n",
       "      <td>2022-12-09</td>\n",
       "      <td>3954.17</td>\n",
       "      <td>3977.02</td>\n",
       "      <td>3933.04</td>\n",
       "      <td>3934.38</td>\n",
       "      <td>3934.38</td>\n",
       "      <td>3888260000</td>\n",
       "    </tr>\n",
       "  </tbody>\n",
       "</table>\n",
       "</div>"
      ],
      "text/plain": [
       "        Date     Open     High      Low    Close  Adj Close      Volume\n",
       "0 2022-12-15  3958.37  3958.37  3879.45  3895.75    3895.75  4493900000\n",
       "1 2022-12-14  4015.54  4053.76  3965.65  3995.32    3995.32  4472340000\n",
       "2 2022-12-13  4069.38  4100.96  3993.03  4019.65    4019.65  5079360000\n",
       "3 2022-12-12  3939.29  3990.71  3935.30  3990.56    3990.56  3904130000\n",
       "4 2022-12-09  3954.17  3977.02  3933.04  3934.38    3934.38  3888260000"
      ]
     },
     "execution_count": 30,
     "metadata": {},
     "output_type": "execute_result"
    }
   ],
   "source": [
    "df['Date']=pd.to_datetime(df['Date'])\n",
    "df.head()"
   ]
  },
  {
   "cell_type": "code",
   "execution_count": 31,
   "id": "c8b8032d",
   "metadata": {},
   "outputs": [],
   "source": [
    "new_set=[]\n",
    "#we wil get 10000 sequences of data \n",
    "for row_set in range(100): \n",
    "    # we will generate two random numbers\n",
    "    # first one which is the number of rows which will be taken \n",
    "    # the second one is the row from which we will start\n",
    "    \n",
    "    row_quant=randint(10,30)\n",
    "    row_start=randint(0,len(df)-row_quant) \n",
    "# len(df)-row_quant means the maximum value we can get because\n",
    "# if you get the maximum value so you have a 'quant_rows'to take into considration\n",
    "# in another way if we said randint(0,len(df)) ,it maybe take take the value of len(df) \n",
    "# and then we won't have a plenty of rows to take into the data \n",
    "\n",
    "    market_subset=df.iloc[row_start:row_start+row_quant]\n",
    "    Close_Date = max(market_subset['Date'])\n",
    "\n",
    "    Close_Gap = market_subset['Close'].pct_change()\n",
    "    High_Gap = market_subset['High'].pct_change()\n",
    "    Low_Gap = market_subset['Low'].pct_change() \n",
    "    Volume_Gap = market_subset['Volume'].pct_change() \n",
    "    Daily_Change = (market_subset['Close'] - market_subset['Open']) / market_subset['Open']\n",
    "    Outcome_Next_Day_Direction = (market_subset['Volume'].shift(-1) - market_subset['Volume'])\n",
    "    \n",
    "    new_set.append(pd.DataFrame({'Sequence_ID':[row_set+1]*len(market_subset),\n",
    "                            'Close_Date':[Close_Date]*len(market_subset),\n",
    "                           'Close_Gap':Close_Gap,\n",
    "                           'High_Gap':High_Gap,\n",
    "                           'Low_Gap':Low_Gap,\n",
    "                           'Volume_Gap':Volume_Gap,\n",
    "                           'Daily_Change':Daily_Change,\n",
    "                           'Outcome_Next_Day_Direction':Outcome_Next_Day_Direction}))\n"
   ]
  },
  {
   "cell_type": "code",
   "execution_count": 32,
   "id": "3fc8f76a",
   "metadata": {},
   "outputs": [
    {
     "data": {
      "text/html": [
       "<div>\n",
       "<style scoped>\n",
       "    .dataframe tbody tr th:only-of-type {\n",
       "        vertical-align: middle;\n",
       "    }\n",
       "\n",
       "    .dataframe tbody tr th {\n",
       "        vertical-align: top;\n",
       "    }\n",
       "\n",
       "    .dataframe thead th {\n",
       "        text-align: right;\n",
       "    }\n",
       "</style>\n",
       "<table border=\"1\" class=\"dataframe\">\n",
       "  <thead>\n",
       "    <tr style=\"text-align: right;\">\n",
       "      <th></th>\n",
       "      <th>Sequence_ID</th>\n",
       "      <th>Close_Date</th>\n",
       "      <th>Close_Gap</th>\n",
       "      <th>High_Gap</th>\n",
       "      <th>Low_Gap</th>\n",
       "      <th>Volume_Gap</th>\n",
       "      <th>Daily_Change</th>\n",
       "      <th>Outcome_Next_Day_Direction</th>\n",
       "    </tr>\n",
       "  </thead>\n",
       "  <tbody>\n",
       "    <tr>\n",
       "      <th>1051</th>\n",
       "      <td>1</td>\n",
       "      <td>2018-10-15</td>\n",
       "      <td>0.005940</td>\n",
       "      <td>-0.000079</td>\n",
       "      <td>-0.007126</td>\n",
       "      <td>0.209443</td>\n",
       "      <td>-0.001231</td>\n",
       "      <td>8.900800e+08</td>\n",
       "    </tr>\n",
       "    <tr>\n",
       "      <th>1052</th>\n",
       "      <td>1</td>\n",
       "      <td>2018-10-15</td>\n",
       "      <td>-0.014007</td>\n",
       "      <td>0.006978</td>\n",
       "      <td>-0.006935</td>\n",
       "      <td>0.221192</td>\n",
       "      <td>-0.017466</td>\n",
       "      <td>-3.598300e+08</td>\n",
       "    </tr>\n",
       "    <tr>\n",
       "      <th>1053</th>\n",
       "      <td>1</td>\n",
       "      <td>2018-10-15</td>\n",
       "      <td>0.021005</td>\n",
       "      <td>0.028220</td>\n",
       "      <td>0.027430</td>\n",
       "      <td>-0.073224</td>\n",
       "      <td>-0.030697</td>\n",
       "      <td>-1.022570e+09</td>\n",
       "    </tr>\n",
       "    <tr>\n",
       "      <th>1054</th>\n",
       "      <td>1</td>\n",
       "      <td>2018-10-15</td>\n",
       "      <td>0.033981</td>\n",
       "      <td>0.007241</td>\n",
       "      <td>0.032106</td>\n",
       "      <td>-0.224530</td>\n",
       "      <td>-0.000753</td>\n",
       "      <td>-1.498700e+08</td>\n",
       "    </tr>\n",
       "    <tr>\n",
       "      <th>1055</th>\n",
       "      <td>1</td>\n",
       "      <td>2018-10-15</td>\n",
       "      <td>0.001420</td>\n",
       "      <td>-0.001858</td>\n",
       "      <td>-0.004241</td>\n",
       "      <td>-0.042436</td>\n",
       "      <td>0.002398</td>\n",
       "      <td>-4.100000e+07</td>\n",
       "    </tr>\n",
       "    <tr>\n",
       "      <th>...</th>\n",
       "      <td>...</td>\n",
       "      <td>...</td>\n",
       "      <td>...</td>\n",
       "      <td>...</td>\n",
       "      <td>...</td>\n",
       "      <td>...</td>\n",
       "      <td>...</td>\n",
       "      <td>...</td>\n",
       "    </tr>\n",
       "    <tr>\n",
       "      <th>1068</th>\n",
       "      <td>100</td>\n",
       "      <td>2018-09-27</td>\n",
       "      <td>-0.007780</td>\n",
       "      <td>-0.007646</td>\n",
       "      <td>-0.005449</td>\n",
       "      <td>-0.030547</td>\n",
       "      <td>0.000464</td>\n",
       "      <td>-2.112700e+08</td>\n",
       "    </tr>\n",
       "    <tr>\n",
       "      <th>1069</th>\n",
       "      <td>100</td>\n",
       "      <td>2018-09-27</td>\n",
       "      <td>-0.001252</td>\n",
       "      <td>-0.000409</td>\n",
       "      <td>-0.004611</td>\n",
       "      <td>-0.063974</td>\n",
       "      <td>0.004694</td>\n",
       "      <td>-1.232100e+08</td>\n",
       "    </tr>\n",
       "    <tr>\n",
       "      <th>1070</th>\n",
       "      <td>100</td>\n",
       "      <td>2018-09-27</td>\n",
       "      <td>-0.005340</td>\n",
       "      <td>-0.002240</td>\n",
       "      <td>-0.001477</td>\n",
       "      <td>-0.039858</td>\n",
       "      <td>-0.005176</td>\n",
       "      <td>2.114300e+08</td>\n",
       "    </tr>\n",
       "    <tr>\n",
       "      <th>1071</th>\n",
       "      <td>100</td>\n",
       "      <td>2018-09-27</td>\n",
       "      <td>0.005601</td>\n",
       "      <td>0.001257</td>\n",
       "      <td>0.003330</td>\n",
       "      <td>0.071237</td>\n",
       "      <td>-0.000482</td>\n",
       "      <td>9.468000e+07</td>\n",
       "    </tr>\n",
       "    <tr>\n",
       "      <th>1072</th>\n",
       "      <td>100</td>\n",
       "      <td>2018-09-27</td>\n",
       "      <td>-0.000275</td>\n",
       "      <td>-0.000530</td>\n",
       "      <td>0.000214</td>\n",
       "      <td>0.029779</td>\n",
       "      <td>0.002530</td>\n",
       "      <td>6.719000e+07</td>\n",
       "    </tr>\n",
       "  </tbody>\n",
       "</table>\n",
       "<p>1750 rows × 8 columns</p>\n",
       "</div>"
      ],
      "text/plain": [
       "      Sequence_ID Close_Date  Close_Gap  High_Gap   Low_Gap  Volume_Gap  \\\n",
       "1051            1 2018-10-15   0.005940 -0.000079 -0.007126    0.209443   \n",
       "1052            1 2018-10-15  -0.014007  0.006978 -0.006935    0.221192   \n",
       "1053            1 2018-10-15   0.021005  0.028220  0.027430   -0.073224   \n",
       "1054            1 2018-10-15   0.033981  0.007241  0.032106   -0.224530   \n",
       "1055            1 2018-10-15   0.001420 -0.001858 -0.004241   -0.042436   \n",
       "...           ...        ...        ...       ...       ...         ...   \n",
       "1068          100 2018-09-27  -0.007780 -0.007646 -0.005449   -0.030547   \n",
       "1069          100 2018-09-27  -0.001252 -0.000409 -0.004611   -0.063974   \n",
       "1070          100 2018-09-27  -0.005340 -0.002240 -0.001477   -0.039858   \n",
       "1071          100 2018-09-27   0.005601  0.001257  0.003330    0.071237   \n",
       "1072          100 2018-09-27  -0.000275 -0.000530  0.000214    0.029779   \n",
       "\n",
       "      Daily_Change  Outcome_Next_Day_Direction  \n",
       "1051     -0.001231                8.900800e+08  \n",
       "1052     -0.017466               -3.598300e+08  \n",
       "1053     -0.030697               -1.022570e+09  \n",
       "1054     -0.000753               -1.498700e+08  \n",
       "1055      0.002398               -4.100000e+07  \n",
       "...            ...                         ...  \n",
       "1068      0.000464               -2.112700e+08  \n",
       "1069      0.004694               -1.232100e+08  \n",
       "1070     -0.005176                2.114300e+08  \n",
       "1071     -0.000482                9.468000e+07  \n",
       "1072      0.002530                6.719000e+07  \n",
       "\n",
       "[1750 rows x 8 columns]"
      ]
     },
     "execution_count": 32,
     "metadata": {},
     "output_type": "execute_result"
    }
   ],
   "source": [
    "new_set_df =pd.concat(new_set).dropna()\n",
    "new_set_df "
   ]
  },
  {
   "cell_type": "code",
   "execution_count": null,
   "id": "29da4fbc",
   "metadata": {},
   "outputs": [],
   "source": []
  },
  {
   "cell_type": "code",
   "execution_count": 33,
   "id": "e514ef56",
   "metadata": {},
   "outputs": [
    {
     "name": "stderr",
     "output_type": "stream",
     "text": [
      "C:\\Users\\samer\\AppData\\Local\\Temp/ipykernel_8688/3276375439.py:23: SettingWithCopyWarning: \n",
      "A value is trying to be set on a copy of a slice from a DataFrame.\n",
      "Try using .loc[row_indexer,col_indexer] = value instead\n",
      "\n",
      "See the caveats in the documentation: https://pandas.pydata.org/pandas-docs/stable/user_guide/indexing.html#returning-a-view-versus-a-copy\n",
      "  new_set_df['Event_Pattern'] = new_set_df['Close_Gap_LMH'].astype(str) + new_set_df['Volume_Gap_LMH'].astype(str) + new_set_df['Daily_Change_LMH'].astype(str)\n"
     ]
    }
   ],
   "source": [
    "new_set_df['Close_Gap_LMH'] = pd.qcut(new_set_df['Close_Gap'], 3, labels=[\"L\", \"M\", \"H\"])\n",
    "\n",
    "# High_Gap - not used in this example\n",
    "new_set_df['High_Gap_LMH'] = pd.qcut(new_set_df['High_Gap'], 3, labels=[\"L\", \"M\", \"H\"])\n",
    "\n",
    "# Low_Gap - not used in this example\n",
    "new_set_df['Low_Gap_LMH'] = pd.qcut(new_set_df['Low_Gap'], 3, labels=[\"L\", \"M\", \"H\"])\n",
    "\n",
    "# Volume_Gap\n",
    "new_set_df['Volume_Gap_LMH'] = pd.qcut(new_set_df['Volume_Gap'], 3, labels=[\"L\", \"M\", \"H\"])\n",
    " \n",
    "# Daily_Change\n",
    "new_set_df['Daily_Change_LMH'] = pd.qcut(new_set_df['Daily_Change'], 3, labels=[\"L\", \"M\", \"H\"])\n",
    "\n",
    "# new set\n",
    "new_set_df = new_set_df[[\"Sequence_ID\", \n",
    "                         \"Close_Date\", \n",
    "                         \"Close_Gap_LMH\", \n",
    "                         \"Volume_Gap_LMH\", \n",
    "                         \"Daily_Change_LMH\", \n",
    "                         \"Outcome_Next_Day_Direction\"]]\n",
    "\n",
    "new_set_df['Event_Pattern'] = new_set_df['Close_Gap_LMH'].astype(str) + new_set_df['Volume_Gap_LMH'].astype(str) + new_set_df['Daily_Change_LMH'].astype(str)"
   ]
  },
  {
   "cell_type": "code",
   "execution_count": 34,
   "id": "8d752269",
   "metadata": {},
   "outputs": [
    {
     "data": {
      "text/plain": [
       "(1750, 7)"
      ]
     },
     "execution_count": 34,
     "metadata": {},
     "output_type": "execute_result"
    }
   ],
   "source": [
    "# the data of one sequnece \n",
    "new_set_df.shape"
   ]
  },
  {
   "cell_type": "code",
   "execution_count": 35,
   "id": "1d7f1be9",
   "metadata": {},
   "outputs": [
    {
     "name": "stdout",
     "output_type": "stream",
     "text": [
      "(100, 3)\n"
     ]
    },
    {
     "data": {
      "text/html": [
       "<div>\n",
       "<style scoped>\n",
       "    .dataframe tbody tr th:only-of-type {\n",
       "        vertical-align: middle;\n",
       "    }\n",
       "\n",
       "    .dataframe tbody tr th {\n",
       "        vertical-align: top;\n",
       "    }\n",
       "\n",
       "    .dataframe thead th {\n",
       "        text-align: right;\n",
       "    }\n",
       "</style>\n",
       "<table border=\"1\" class=\"dataframe\">\n",
       "  <thead>\n",
       "    <tr style=\"text-align: right;\">\n",
       "      <th></th>\n",
       "      <th>Sequence_ID</th>\n",
       "      <th>Close_Date</th>\n",
       "      <th>Event_Pattern</th>\n",
       "    </tr>\n",
       "  </thead>\n",
       "  <tbody>\n",
       "    <tr>\n",
       "      <th>0</th>\n",
       "      <td>1</td>\n",
       "      <td>2018-10-15</td>\n",
       "      <td>{HHM, LHL, HLL, HLM, MLM, MML, HHL, HMM, MLM, ...</td>\n",
       "    </tr>\n",
       "    <tr>\n",
       "      <th>1</th>\n",
       "      <td>2</td>\n",
       "      <td>2022-10-28</td>\n",
       "      <td>{LHL, HMM, HMH, LMH, LHH, LLL, HLM, HHL, LMH, ...</td>\n",
       "    </tr>\n",
       "    <tr>\n",
       "      <th>2</th>\n",
       "      <td>3</td>\n",
       "      <td>2022-12-12</td>\n",
       "      <td>{LML, HMH, LMM, MHL, HML, HLH, MHM, MHH, LLM, ...</td>\n",
       "    </tr>\n",
       "    <tr>\n",
       "      <th>3</th>\n",
       "      <td>4</td>\n",
       "      <td>2020-05-20</td>\n",
       "      <td>{LML, HHH, LLH, MMH, LHL, HLL, HLH, MMH, LHM, ...</td>\n",
       "    </tr>\n",
       "    <tr>\n",
       "      <th>4</th>\n",
       "      <td>5</td>\n",
       "      <td>2022-02-07</td>\n",
       "      <td>{HHH, LLL, HMH, LHH, LHH, LMH, LML, HHL, MLM, ...</td>\n",
       "    </tr>\n",
       "  </tbody>\n",
       "</table>\n",
       "</div>"
      ],
      "text/plain": [
       "   Sequence_ID Close_Date                                      Event_Pattern\n",
       "0            1 2018-10-15  {HHM, LHL, HLL, HLM, MLM, MML, HHL, HMM, MLM, ...\n",
       "1            2 2022-10-28  {LHL, HMM, HMH, LMH, LHH, LLL, HLM, HHL, LMH, ...\n",
       "2            3 2022-12-12  {LML, HMH, LMM, MHL, HML, HLH, MHM, MHH, LLM, ...\n",
       "3            4 2020-05-20  {LML, HHH, LLH, MMH, LHL, HLL, HLH, MMH, LHM, ...\n",
       "4            5 2022-02-07  {HHH, LLL, HMH, LHH, LHH, LMH, LML, HHL, MLM, ..."
      ]
     },
     "execution_count": 35,
     "metadata": {},
     "output_type": "execute_result"
    }
   ],
   "source": [
    "compressed_set = new_set_df.groupby(['Sequence_ID', \n",
    "                                     'Close_Date'])['Event_Pattern'].apply(lambda x: \"{%s}\" % ', '.join(x)).reset_index()\n",
    "\n",
    "print(compressed_set.shape)\n",
    "compressed_set.head()\n",
    "    "
   ]
  },
  {
   "cell_type": "code",
   "execution_count": 36,
   "id": "694110b7",
   "metadata": {},
   "outputs": [],
   "source": [
    "compressed_outcomes = new_set_df.groupby(['Sequence_ID', 'Close_Date'])['Outcome_Next_Day_Direction'].mean()\n",
    "compressed_outcomes = compressed_outcomes.to_frame().reset_index()"
   ]
  },
  {
   "cell_type": "code",
   "execution_count": 37,
   "id": "973a0ac4",
   "metadata": {},
   "outputs": [
    {
     "data": {
      "text/html": [
       "<div>\n",
       "<style scoped>\n",
       "    .dataframe tbody tr th:only-of-type {\n",
       "        vertical-align: middle;\n",
       "    }\n",
       "\n",
       "    .dataframe tbody tr th {\n",
       "        vertical-align: top;\n",
       "    }\n",
       "\n",
       "    .dataframe thead th {\n",
       "        text-align: right;\n",
       "    }\n",
       "</style>\n",
       "<table border=\"1\" class=\"dataframe\">\n",
       "  <thead>\n",
       "    <tr style=\"text-align: right;\">\n",
       "      <th></th>\n",
       "      <th>Sequence_ID</th>\n",
       "      <th>Close_Date</th>\n",
       "      <th>Outcome_Next_Day_Direction</th>\n",
       "    </tr>\n",
       "  </thead>\n",
       "  <tbody>\n",
       "    <tr>\n",
       "      <th>0</th>\n",
       "      <td>1</td>\n",
       "      <td>2018-10-15</td>\n",
       "      <td>-3.383731e+07</td>\n",
       "    </tr>\n",
       "    <tr>\n",
       "      <th>1</th>\n",
       "      <td>2</td>\n",
       "      <td>2022-10-28</td>\n",
       "      <td>6.631111e+06</td>\n",
       "    </tr>\n",
       "    <tr>\n",
       "      <th>2</th>\n",
       "      <td>3</td>\n",
       "      <td>2022-12-12</td>\n",
       "      <td>3.269909e+07</td>\n",
       "    </tr>\n",
       "    <tr>\n",
       "      <th>3</th>\n",
       "      <td>4</td>\n",
       "      <td>2020-05-20</td>\n",
       "      <td>2.525600e+07</td>\n",
       "    </tr>\n",
       "    <tr>\n",
       "      <th>4</th>\n",
       "      <td>5</td>\n",
       "      <td>2022-02-07</td>\n",
       "      <td>-2.627143e+07</td>\n",
       "    </tr>\n",
       "    <tr>\n",
       "      <th>...</th>\n",
       "      <td>...</td>\n",
       "      <td>...</td>\n",
       "      <td>...</td>\n",
       "    </tr>\n",
       "    <tr>\n",
       "      <th>95</th>\n",
       "      <td>96</td>\n",
       "      <td>2020-11-10</td>\n",
       "      <td>-4.288175e+08</td>\n",
       "    </tr>\n",
       "    <tr>\n",
       "      <th>96</th>\n",
       "      <td>97</td>\n",
       "      <td>2019-08-09</td>\n",
       "      <td>-4.574905e+07</td>\n",
       "    </tr>\n",
       "    <tr>\n",
       "      <th>97</th>\n",
       "      <td>98</td>\n",
       "      <td>2019-01-08</td>\n",
       "      <td>-2.257778e+07</td>\n",
       "    </tr>\n",
       "    <tr>\n",
       "      <th>98</th>\n",
       "      <td>99</td>\n",
       "      <td>2020-04-14</td>\n",
       "      <td>2.224964e+08</td>\n",
       "    </tr>\n",
       "    <tr>\n",
       "      <th>99</th>\n",
       "      <td>100</td>\n",
       "      <td>2018-09-27</td>\n",
       "      <td>-7.626000e+06</td>\n",
       "    </tr>\n",
       "  </tbody>\n",
       "</table>\n",
       "<p>100 rows × 3 columns</p>\n",
       "</div>"
      ],
      "text/plain": [
       "    Sequence_ID Close_Date  Outcome_Next_Day_Direction\n",
       "0             1 2018-10-15               -3.383731e+07\n",
       "1             2 2022-10-28                6.631111e+06\n",
       "2             3 2022-12-12                3.269909e+07\n",
       "3             4 2020-05-20                2.525600e+07\n",
       "4             5 2022-02-07               -2.627143e+07\n",
       "..          ...        ...                         ...\n",
       "95           96 2020-11-10               -4.288175e+08\n",
       "96           97 2019-08-09               -4.574905e+07\n",
       "97           98 2019-01-08               -2.257778e+07\n",
       "98           99 2020-04-14                2.224964e+08\n",
       "99          100 2018-09-27               -7.626000e+06\n",
       "\n",
       "[100 rows x 3 columns]"
      ]
     },
     "execution_count": 37,
     "metadata": {},
     "output_type": "execute_result"
    }
   ],
   "source": [
    "compressed_outcomes"
   ]
  },
  {
   "cell_type": "code",
   "execution_count": 38,
   "id": "25baf28a",
   "metadata": {},
   "outputs": [
    {
     "name": "stdout",
     "output_type": "stream",
     "text": [
      "(100, 4)\n"
     ]
    },
    {
     "data": {
      "text/html": [
       "<div>\n",
       "<style scoped>\n",
       "    .dataframe tbody tr th:only-of-type {\n",
       "        vertical-align: middle;\n",
       "    }\n",
       "\n",
       "    .dataframe tbody tr th {\n",
       "        vertical-align: top;\n",
       "    }\n",
       "\n",
       "    .dataframe thead th {\n",
       "        text-align: right;\n",
       "    }\n",
       "</style>\n",
       "<table border=\"1\" class=\"dataframe\">\n",
       "  <thead>\n",
       "    <tr style=\"text-align: right;\">\n",
       "      <th></th>\n",
       "      <th>Sequence_ID</th>\n",
       "      <th>Close_Date</th>\n",
       "      <th>Event_Pattern</th>\n",
       "      <th>Outcome_Next_Day_Direction</th>\n",
       "    </tr>\n",
       "  </thead>\n",
       "  <tbody>\n",
       "    <tr>\n",
       "      <th>0</th>\n",
       "      <td>1</td>\n",
       "      <td>2018-10-15</td>\n",
       "      <td>{HHM, LHL, HLL, HLM, MLM, MML, HHL, HMM, MLM, ...</td>\n",
       "      <td>-3.383731e+07</td>\n",
       "    </tr>\n",
       "    <tr>\n",
       "      <th>1</th>\n",
       "      <td>2</td>\n",
       "      <td>2022-10-28</td>\n",
       "      <td>{LHL, HMM, HMH, LMH, LHH, LLL, HLM, HHL, LMH, ...</td>\n",
       "      <td>6.631111e+06</td>\n",
       "    </tr>\n",
       "    <tr>\n",
       "      <th>2</th>\n",
       "      <td>3</td>\n",
       "      <td>2022-12-12</td>\n",
       "      <td>{LML, HMH, LMM, MHL, HML, HLH, MHM, MHH, LLM, ...</td>\n",
       "      <td>3.269909e+07</td>\n",
       "    </tr>\n",
       "    <tr>\n",
       "      <th>3</th>\n",
       "      <td>4</td>\n",
       "      <td>2020-05-20</td>\n",
       "      <td>{LML, HHH, LLH, MMH, LHL, HLL, HLH, MMH, LHM, ...</td>\n",
       "      <td>2.525600e+07</td>\n",
       "    </tr>\n",
       "    <tr>\n",
       "      <th>4</th>\n",
       "      <td>5</td>\n",
       "      <td>2022-02-07</td>\n",
       "      <td>{HHH, LLL, HMH, LHH, LHH, LMH, LML, HHL, MLM, ...</td>\n",
       "      <td>-2.627143e+07</td>\n",
       "    </tr>\n",
       "  </tbody>\n",
       "</table>\n",
       "</div>"
      ],
      "text/plain": [
       "   Sequence_ID Close_Date                                      Event_Pattern  \\\n",
       "0            1 2018-10-15  {HHM, LHL, HLL, HLM, MLM, MML, HHL, HMM, MLM, ...   \n",
       "1            2 2022-10-28  {LHL, HMM, HMH, LMH, LHH, LLL, HLM, HHL, LMH, ...   \n",
       "2            3 2022-12-12  {LML, HMH, LMM, MHL, HML, HLH, MHM, MHH, LLM, ...   \n",
       "3            4 2020-05-20  {LML, HHH, LLH, MMH, LHL, HLL, HLH, MMH, LHM, ...   \n",
       "4            5 2022-02-07  {HHH, LLL, HMH, LHH, LHH, LMH, LML, HHL, MLM, ...   \n",
       "\n",
       "   Outcome_Next_Day_Direction  \n",
       "0               -3.383731e+07  \n",
       "1                6.631111e+06  \n",
       "2                3.269909e+07  \n",
       "3                2.525600e+07  \n",
       "4               -2.627143e+07  "
      ]
     },
     "execution_count": 38,
     "metadata": {},
     "output_type": "execute_result"
    }
   ],
   "source": [
    "compressed_set = pd.merge(compressed_set, compressed_outcomes, on= ['Sequence_ID', 'Close_Date'], how='inner')\n",
    "print(compressed_set.shape)\n",
    "compressed_set.head()"
   ]
  },
  {
   "cell_type": "code",
   "execution_count": 39,
   "id": "f0e7306f",
   "metadata": {},
   "outputs": [
    {
     "data": {
      "text/html": [
       "<div>\n",
       "<style scoped>\n",
       "    .dataframe tbody tr th:only-of-type {\n",
       "        vertical-align: middle;\n",
       "    }\n",
       "\n",
       "    .dataframe tbody tr th {\n",
       "        vertical-align: top;\n",
       "    }\n",
       "\n",
       "    .dataframe thead th {\n",
       "        text-align: right;\n",
       "    }\n",
       "</style>\n",
       "<table border=\"1\" class=\"dataframe\">\n",
       "  <thead>\n",
       "    <tr style=\"text-align: right;\">\n",
       "      <th></th>\n",
       "      <th>Sequence_ID</th>\n",
       "      <th>Close_Date</th>\n",
       "      <th>Event_Pattern</th>\n",
       "      <th>Outcome_Next_Day_Direction</th>\n",
       "    </tr>\n",
       "  </thead>\n",
       "  <tbody>\n",
       "    <tr>\n",
       "      <th>0</th>\n",
       "      <td>1</td>\n",
       "      <td>2018-10-15</td>\n",
       "      <td>HHM,LHL,HLL,HLM,MLM,MML,HHL,HMM,MLM,MMM,MMM,ML...</td>\n",
       "      <td>-3.383731e+07</td>\n",
       "    </tr>\n",
       "    <tr>\n",
       "      <th>1</th>\n",
       "      <td>2</td>\n",
       "      <td>2022-10-28</td>\n",
       "      <td>LHL,HMM,HMH,LMH,LHH,LLL,HLM,HHL,LMH,LML,HHH,LL...</td>\n",
       "      <td>6.631111e+06</td>\n",
       "    </tr>\n",
       "    <tr>\n",
       "      <th>2</th>\n",
       "      <td>3</td>\n",
       "      <td>2022-12-12</td>\n",
       "      <td>LML,HMH,LMM,MHL,HML,HLH,MHM,MHH,LLM,MML,HLM,MH...</td>\n",
       "      <td>3.269909e+07</td>\n",
       "    </tr>\n",
       "    <tr>\n",
       "      <th>3</th>\n",
       "      <td>4</td>\n",
       "      <td>2020-05-20</td>\n",
       "      <td>LML,HHH,LLH,MMH,LHL,HLL,HLH,MMH,LHM,LLL,HHM,LL...</td>\n",
       "      <td>2.525600e+07</td>\n",
       "    </tr>\n",
       "    <tr>\n",
       "      <th>4</th>\n",
       "      <td>5</td>\n",
       "      <td>2022-02-07</td>\n",
       "      <td>HHH,LLL,HMH,LHH,LHH,LMH,LML,HHL,MLM,HHH,MLL,HL...</td>\n",
       "      <td>-2.627143e+07</td>\n",
       "    </tr>\n",
       "  </tbody>\n",
       "</table>\n",
       "</div>"
      ],
      "text/plain": [
       "   Sequence_ID Close_Date                                      Event_Pattern  \\\n",
       "0            1 2018-10-15  HHM,LHL,HLL,HLM,MLM,MML,HHL,HMM,MLM,MMM,MMM,ML...   \n",
       "1            2 2022-10-28  LHL,HMM,HMH,LMH,LHH,LLL,HLM,HHL,LMH,LML,HHH,LL...   \n",
       "2            3 2022-12-12  LML,HMH,LMM,MHL,HML,HLH,MHM,MHH,LLM,MML,HLM,MH...   \n",
       "3            4 2020-05-20  LML,HHH,LLH,MMH,LHL,HLL,HLH,MMH,LHM,LLL,HHM,LL...   \n",
       "4            5 2022-02-07  HHH,LLL,HMH,LHH,LHH,LMH,LML,HHL,MLM,HHH,MLL,HL...   \n",
       "\n",
       "   Outcome_Next_Day_Direction  \n",
       "0               -3.383731e+07  \n",
       "1                6.631111e+06  \n",
       "2                3.269909e+07  \n",
       "3                2.525600e+07  \n",
       "4               -2.627143e+07  "
      ]
     },
     "execution_count": 39,
     "metadata": {},
     "output_type": "execute_result"
    }
   ],
   "source": [
    "compressed_set['Event_Pattern'] = [''.join(e.split()).replace('{','')\n",
    "                                   .replace('}','') for e in compressed_set['Event_Pattern'].values]\n",
    "compressed_set.head()"
   ]
  },
  {
   "cell_type": "code",
   "execution_count": 40,
   "id": "3e2db241",
   "metadata": {},
   "outputs": [
    {
     "data": {
      "text/plain": [
       "(9, 4)"
      ]
     },
     "execution_count": 40,
     "metadata": {},
     "output_type": "execute_result"
    }
   ],
   "source": [
    "compressed_set_validation = compressed_set[compressed_set['Close_Date'] >= datetime.datetime.now() \n",
    "                                           - datetime.timedelta(days=90)] # Sys.Date()-90 \n",
    "\n",
    "compressed_set_validation.shape"
   ]
  },
  {
   "cell_type": "code",
   "execution_count": 41,
   "id": "67f048f6",
   "metadata": {},
   "outputs": [
    {
     "data": {
      "text/plain": [
       "(91, 4)"
      ]
     },
     "execution_count": 41,
     "metadata": {},
     "output_type": "execute_result"
    }
   ],
   "source": [
    "compressed_set = compressed_set[compressed_set['Close_Date'] < datetime.datetime.now() \n",
    "                                           - datetime.timedelta(days=90)]  \n",
    "compressed_set.shape"
   ]
  },
  {
   "cell_type": "code",
   "execution_count": 42,
   "id": "6364ac9d",
   "metadata": {},
   "outputs": [
    {
     "name": "stdout",
     "output_type": "stream",
     "text": [
      "91\n"
     ]
    },
    {
     "data": {
      "text/plain": [
       "73"
      ]
     },
     "execution_count": 42,
     "metadata": {},
     "output_type": "execute_result"
    }
   ],
   "source": [
    "print(len(compressed_set['Outcome_Next_Day_Direction']))\n",
    "len(compressed_set[abs(compressed_set['Outcome_Next_Day_Direction']) > 10000000])"
   ]
  },
  {
   "cell_type": "code",
   "execution_count": 43,
   "id": "6a3cbfca",
   "metadata": {},
   "outputs": [
    {
     "name": "stdout",
     "output_type": "stream",
     "text": [
      "all moves: 91\n",
      "big moves only: 73\n"
     ]
    }
   ],
   "source": [
    "# keep only keep big/interesting moves \n",
    "print('all moves:', len(compressed_set))\n",
    "compressed_set = compressed_set[abs(compressed_set['Outcome_Next_Day_Direction']) > 10000000]\n",
    "compressed_set\n",
    "compressed_set['Outcome_Next_Day_Direction'] = np.where((compressed_set['Outcome_Next_Day_Direction'] > 0), 1, 0)\n",
    "compressed_set_validation['Outcome_Next_Day_Direction'] = np.where((compressed_set_validation['Outcome_Next_Day_Direction'] > 0), 1, 0)\n",
    "print('big moves only:', len(compressed_set))  "
   ]
  },
  {
   "cell_type": "code",
   "execution_count": null,
   "id": "6c9f46c8",
   "metadata": {},
   "outputs": [],
   "source": []
  },
  {
   "cell_type": "code",
   "execution_count": 44,
   "id": "ad91d5c7",
   "metadata": {},
   "outputs": [
    {
     "data": {
      "text/html": [
       "<div>\n",
       "<style scoped>\n",
       "    .dataframe tbody tr th:only-of-type {\n",
       "        vertical-align: middle;\n",
       "    }\n",
       "\n",
       "    .dataframe tbody tr th {\n",
       "        vertical-align: top;\n",
       "    }\n",
       "\n",
       "    .dataframe thead th {\n",
       "        text-align: right;\n",
       "    }\n",
       "</style>\n",
       "<table border=\"1\" class=\"dataframe\">\n",
       "  <thead>\n",
       "    <tr style=\"text-align: right;\">\n",
       "      <th></th>\n",
       "      <th>Sequence_ID</th>\n",
       "      <th>Close_Date</th>\n",
       "      <th>Event_Pattern</th>\n",
       "      <th>Outcome_Next_Day_Direction</th>\n",
       "    </tr>\n",
       "  </thead>\n",
       "  <tbody>\n",
       "    <tr>\n",
       "      <th>0</th>\n",
       "      <td>1</td>\n",
       "      <td>2018-10-15</td>\n",
       "      <td>HHM,LHL,HLL,HLM,MLM,MML,HHL,HMM,MLM,MMM,MMM,ML...</td>\n",
       "      <td>0</td>\n",
       "    </tr>\n",
       "    <tr>\n",
       "      <th>3</th>\n",
       "      <td>4</td>\n",
       "      <td>2020-05-20</td>\n",
       "      <td>LML,HHH,LLH,MMH,LHL,HLL,HLH,MMH,LHM,LLL,HHM,LL...</td>\n",
       "      <td>1</td>\n",
       "    </tr>\n",
       "    <tr>\n",
       "      <th>4</th>\n",
       "      <td>5</td>\n",
       "      <td>2022-02-07</td>\n",
       "      <td>HHH,LLL,HMH,LHH,LHH,LMH,LML,HHL,MLM,HHH,MLL,HL...</td>\n",
       "      <td>0</td>\n",
       "    </tr>\n",
       "    <tr>\n",
       "      <th>6</th>\n",
       "      <td>7</td>\n",
       "      <td>2020-11-20</td>\n",
       "      <td>HMH,MHL,HLM,HHH,LLH,LML,HLM,LHM,MHL,LLM,MMH,LM...</td>\n",
       "      <td>0</td>\n",
       "    </tr>\n",
       "    <tr>\n",
       "      <th>7</th>\n",
       "      <td>8</td>\n",
       "      <td>2021-08-26</td>\n",
       "      <td>HHM,MHM,MLH,LMH,LHH,MLL,HML,HLH,MLM,MHM,MMM,MH...</td>\n",
       "      <td>1</td>\n",
       "    </tr>\n",
       "  </tbody>\n",
       "</table>\n",
       "</div>"
      ],
      "text/plain": [
       "   Sequence_ID Close_Date                                      Event_Pattern  \\\n",
       "0            1 2018-10-15  HHM,LHL,HLL,HLM,MLM,MML,HHL,HMM,MLM,MMM,MMM,ML...   \n",
       "3            4 2020-05-20  LML,HHH,LLH,MMH,LHL,HLL,HLH,MMH,LHM,LLL,HHM,LL...   \n",
       "4            5 2022-02-07  HHH,LLL,HMH,LHH,LHH,LMH,LML,HHL,MLM,HHH,MLL,HL...   \n",
       "6            7 2020-11-20  HMH,MHL,HLM,HHH,LLH,LML,HLM,LHM,MHL,LLM,MMH,LM...   \n",
       "7            8 2021-08-26  HHM,MHM,MLH,LMH,LHH,MLL,HML,HLH,MLM,MHM,MMM,MH...   \n",
       "\n",
       "   Outcome_Next_Day_Direction  \n",
       "0                           0  \n",
       "3                           1  \n",
       "4                           0  \n",
       "6                           0  \n",
       "7                           1  "
      ]
     },
     "execution_count": 44,
     "metadata": {},
     "output_type": "execute_result"
    }
   ],
   "source": [
    "compressed_set.head()"
   ]
  },
  {
   "cell_type": "code",
   "execution_count": 45,
   "id": "755efda7",
   "metadata": {},
   "outputs": [
    {
     "name": "stdout",
     "output_type": "stream",
     "text": [
      "(33, 2)\n",
      "(40, 2)\n"
     ]
    }
   ],
   "source": [
    "compressed_set_pos = compressed_set[compressed_set['Outcome_Next_Day_Direction']==1][['Sequence_ID', 'Event_Pattern']]\n",
    "print(compressed_set_pos.shape)\n",
    "compressed_set_neg = compressed_set[compressed_set['Outcome_Next_Day_Direction']==0][['Sequence_ID', 'Event_Pattern']]\n",
    "print(compressed_set_neg.shape)\n"
   ]
  },
  {
   "cell_type": "code",
   "execution_count": 46,
   "id": "ad359c2d",
   "metadata": {},
   "outputs": [
    {
     "data": {
      "text/html": [
       "<div>\n",
       "<style scoped>\n",
       "    .dataframe tbody tr th:only-of-type {\n",
       "        vertical-align: middle;\n",
       "    }\n",
       "\n",
       "    .dataframe tbody tr th {\n",
       "        vertical-align: top;\n",
       "    }\n",
       "\n",
       "    .dataframe thead th {\n",
       "        text-align: right;\n",
       "    }\n",
       "</style>\n",
       "<table border=\"1\" class=\"dataframe\">\n",
       "  <thead>\n",
       "    <tr style=\"text-align: right;\">\n",
       "      <th></th>\n",
       "      <th>Sequence_ID</th>\n",
       "      <th>Event_Pattern</th>\n",
       "    </tr>\n",
       "  </thead>\n",
       "  <tbody>\n",
       "    <tr>\n",
       "      <th>3</th>\n",
       "      <td>4</td>\n",
       "      <td>LML,HHH,LLH,MMH,LHL,HLL,HLH,MMH,LHM,LLL,HHM,LL...</td>\n",
       "    </tr>\n",
       "    <tr>\n",
       "      <th>7</th>\n",
       "      <td>8</td>\n",
       "      <td>HHM,MHM,MLH,LMH,LHH,MLL,HML,HLH,MLM,MHM,MMM,MH...</td>\n",
       "    </tr>\n",
       "    <tr>\n",
       "      <th>9</th>\n",
       "      <td>10</td>\n",
       "      <td>MMM,MHM,MLM,MMM,MHH,LHL,HLH,LLL</td>\n",
       "    </tr>\n",
       "    <tr>\n",
       "      <th>10</th>\n",
       "      <td>11</td>\n",
       "      <td>LLH,MML,HLM,MLH,LLM,MHM,MHM,LLH,MHM,MLM,MHM,LL...</td>\n",
       "    </tr>\n",
       "    <tr>\n",
       "      <th>11</th>\n",
       "      <td>12</td>\n",
       "      <td>LHH,LLH,LHL,HLH,LHL,HLM,MMH,LHL,HLH,MML,HHM,LM...</td>\n",
       "    </tr>\n",
       "  </tbody>\n",
       "</table>\n",
       "</div>"
      ],
      "text/plain": [
       "    Sequence_ID                                      Event_Pattern\n",
       "3             4  LML,HHH,LLH,MMH,LHL,HLL,HLH,MMH,LHM,LLL,HHM,LL...\n",
       "7             8  HHM,MHM,MLH,LMH,LHH,MLL,HML,HLH,MLM,MHM,MMM,MH...\n",
       "9            10                    MMM,MHM,MLM,MMM,MHH,LHL,HLH,LLL\n",
       "10           11  LLH,MML,HLM,MLH,LLM,MHM,MHM,LLH,MHM,MLM,MHM,LL...\n",
       "11           12  LHH,LLH,LHL,HLH,LHL,HLM,MMH,LHL,HLH,MML,HHM,LM..."
      ]
     },
     "execution_count": 46,
     "metadata": {},
     "output_type": "execute_result"
    }
   ],
   "source": [
    "compressed_set_pos.head()"
   ]
  },
  {
   "cell_type": "code",
   "execution_count": 47,
   "id": "83aebbf9",
   "metadata": {},
   "outputs": [
    {
     "data": {
      "text/plain": [
       "27"
      ]
     },
     "execution_count": 47,
     "metadata": {},
     "output_type": "execute_result"
    }
   ],
   "source": [
    "flat_list = [item.split(',') for item in compressed_set['Event_Pattern'].values ]\n",
    "unique_patterns = ','.join(str(r) for v in flat_list for r in v)\n",
    "unique_patterns = list(set(unique_patterns.split(',')))\n",
    "len(unique_patterns)"
   ]
  },
  {
   "cell_type": "code",
   "execution_count": null,
   "id": "514f8e83",
   "metadata": {},
   "outputs": [],
   "source": [
    "\n"
   ]
  },
  {
   "cell_type": "code",
   "execution_count": 48,
   "id": "956faafc",
   "metadata": {},
   "outputs": [
    {
     "data": {
      "text/plain": [
       "['HMH',\n",
       " 'LHM',\n",
       " 'LHL',\n",
       " 'MHL',\n",
       " 'LML',\n",
       " 'MML',\n",
       " 'LLM',\n",
       " 'HLM',\n",
       " 'MLL',\n",
       " 'LLL',\n",
       " 'HLL',\n",
       " 'LLH',\n",
       " 'LMM',\n",
       " 'LMH',\n",
       " 'HHM',\n",
       " 'MHM',\n",
       " 'MLH',\n",
       " 'HML',\n",
       " 'MHH',\n",
       " 'HHH',\n",
       " 'HMM',\n",
       " 'MMM',\n",
       " 'HLH',\n",
       " 'MLM',\n",
       " 'HHL',\n",
       " 'LHH',\n",
       " 'MMH']"
      ]
     },
     "execution_count": 48,
     "metadata": {},
     "output_type": "execute_result"
    }
   ],
   "source": [
    "unique_patterns"
   ]
  },
  {
   "cell_type": "markdown",
   "id": "cf5ba490",
   "metadata": {},
   "source": [
    "Build the markov transition grid\n"
   ]
  },
  {
   "cell_type": "code",
   "execution_count": 26,
   "id": "727a91db",
   "metadata": {},
   "outputs": [],
   "source": [
    "def build_transition_grid(compressed_grid, unique_patterns):\n",
    "    # build the markov transition grid\n",
    "\n",
    "    patterns = []\n",
    "    counts = []\n",
    "    for from_event in unique_patterns:\n",
    "\n",
    "        # how many times \n",
    "        for to_event in unique_patterns:\n",
    "            pattern = from_event + ',' + to_event # MMM,MlM\n",
    "\n",
    "            ids_matches = compressed_grid[compressed_grid['Event_Pattern'].str.contains(pattern)]\n",
    "            found = 0\n",
    "            if len(ids_matches) > 0:\n",
    "                Event_Pattern = '---'.join(ids_matches['Event_Pattern'].values)\n",
    "                found = Event_Pattern.count(pattern)\n",
    "            patterns.append(pattern)\n",
    "            counts.append(found)\n",
    "\n",
    "    # create to/from grid\n",
    "    grid_Df = pd.DataFrame({'pairs':patterns, 'counts': counts})\n",
    "\n",
    "    grid_Df['x'], grid_Df['y'] = grid_Df['pairs'].str.split(',', 1).str\n",
    "    grid_Df.head()\n",
    "\n",
    "    grid_Df = grid_Df.pivot(index='x', columns='y', values='counts')\n",
    "\n",
    "    grid_Df.columns= [col for col in grid_Df.columns]\n",
    "    del grid_Df.index.name\n",
    "\n",
    "    # replace all NaN with zeros\n",
    "    grid_Df.fillna(0, inplace=True)\n",
    "    grid_Df.head()\n",
    "\n",
    "    #grid_Df.rowSums(transition_dataframe) \n",
    "    grid_Df = grid_Df / grid_Df.sum(1)\n",
    "    return (grid_Df)"
   ]
  },
  {
   "cell_type": "code",
   "execution_count": 27,
   "id": "2c101ced",
   "metadata": {},
   "outputs": [
    {
     "name": "stderr",
     "output_type": "stream",
     "text": [
      "C:\\Users\\samer\\AppData\\Local\\Temp/ipykernel_8688/2965077453.py:23: FutureWarning: Columnar iteration over characters will be deprecated in future releases.\n",
      "  grid_Df['x'], grid_Df['y'] = grid_Df['pairs'].str.split(',', 1).str\n"
     ]
    },
    {
     "ename": "AttributeError",
     "evalue": "can't delete attribute",
     "output_type": "error",
     "traceback": [
      "\u001b[1;31m---------------------------------------------------------------------------\u001b[0m",
      "\u001b[1;31mAttributeError\u001b[0m                            Traceback (most recent call last)",
      "\u001b[1;32m~\\AppData\\Local\\Temp/ipykernel_8688/3935128823.py\u001b[0m in \u001b[0;36m<module>\u001b[1;34m\u001b[0m\n\u001b[1;32m----> 1\u001b[1;33m \u001b[0mgrid_pos\u001b[0m \u001b[1;33m=\u001b[0m \u001b[0mbuild_transition_grid\u001b[0m\u001b[1;33m(\u001b[0m\u001b[0mcompressed_set_pos\u001b[0m\u001b[1;33m,\u001b[0m \u001b[0munique_patterns\u001b[0m\u001b[1;33m)\u001b[0m\u001b[1;33m\u001b[0m\u001b[1;33m\u001b[0m\u001b[0m\n\u001b[0m\u001b[0;32m      2\u001b[0m \u001b[0mgrid_neg\u001b[0m \u001b[1;33m=\u001b[0m \u001b[0mbuild_transition_grid\u001b[0m\u001b[1;33m(\u001b[0m\u001b[0mcompressed_set_neg\u001b[0m\u001b[1;33m,\u001b[0m \u001b[0munique_patterns\u001b[0m\u001b[1;33m)\u001b[0m\u001b[1;33m\u001b[0m\u001b[1;33m\u001b[0m\u001b[0m\n",
      "\u001b[1;32m~\\AppData\\Local\\Temp/ipykernel_8688/2965077453.py\u001b[0m in \u001b[0;36mbuild_transition_grid\u001b[1;34m(compressed_grid, unique_patterns)\u001b[0m\n\u001b[0;32m     27\u001b[0m \u001b[1;33m\u001b[0m\u001b[0m\n\u001b[0;32m     28\u001b[0m     \u001b[0mgrid_Df\u001b[0m\u001b[1;33m.\u001b[0m\u001b[0mcolumns\u001b[0m\u001b[1;33m=\u001b[0m \u001b[1;33m[\u001b[0m\u001b[0mcol\u001b[0m \u001b[1;32mfor\u001b[0m \u001b[0mcol\u001b[0m \u001b[1;32min\u001b[0m \u001b[0mgrid_Df\u001b[0m\u001b[1;33m.\u001b[0m\u001b[0mcolumns\u001b[0m\u001b[1;33m]\u001b[0m\u001b[1;33m\u001b[0m\u001b[1;33m\u001b[0m\u001b[0m\n\u001b[1;32m---> 29\u001b[1;33m     \u001b[1;32mdel\u001b[0m \u001b[0mgrid_Df\u001b[0m\u001b[1;33m.\u001b[0m\u001b[0mindex\u001b[0m\u001b[1;33m.\u001b[0m\u001b[0mname\u001b[0m\u001b[1;33m\u001b[0m\u001b[1;33m\u001b[0m\u001b[0m\n\u001b[0m\u001b[0;32m     30\u001b[0m \u001b[1;33m\u001b[0m\u001b[0m\n\u001b[0;32m     31\u001b[0m     \u001b[1;31m# replace all NaN with zeros\u001b[0m\u001b[1;33m\u001b[0m\u001b[1;33m\u001b[0m\u001b[0m\n",
      "\u001b[1;31mAttributeError\u001b[0m: can't delete attribute"
     ]
    }
   ],
   "source": [
    "grid_pos = build_transition_grid(compressed_set_pos, unique_patterns) \n",
    "grid_neg = build_transition_grid(compressed_set_neg, unique_patterns) "
   ]
  },
  {
   "cell_type": "code",
   "execution_count": 1,
   "id": "e21cc4d4",
   "metadata": {},
   "outputs": [
    {
     "ename": "NameError",
     "evalue": "name 'grid_neg' is not defined",
     "output_type": "error",
     "traceback": [
      "\u001b[1;31m---------------------------------------------------------------------------\u001b[0m",
      "\u001b[1;31mNameError\u001b[0m                                 Traceback (most recent call last)",
      "\u001b[1;32m~\\AppData\\Local\\Temp/ipykernel_8688/92520701.py\u001b[0m in \u001b[0;36m<module>\u001b[1;34m\u001b[0m\n\u001b[1;32m----> 1\u001b[1;33m \u001b[0mgrid_neg\u001b[0m\u001b[1;33m.\u001b[0m\u001b[0mhead\u001b[0m\u001b[1;33m(\u001b[0m\u001b[1;33m)\u001b[0m\u001b[1;33m\u001b[0m\u001b[1;33m\u001b[0m\u001b[0m\n\u001b[0m",
      "\u001b[1;31mNameError\u001b[0m: name 'grid_neg' is not defined"
     ]
    }
   ],
   "source": [
    "grid_neg.head()\n"
   ]
  },
  {
   "cell_type": "code",
   "execution_count": 2,
   "id": "76065127",
   "metadata": {},
   "outputs": [
    {
     "ename": "NameError",
     "evalue": "name 'grid_pos' is not defined",
     "output_type": "error",
     "traceback": [
      "\u001b[1;31m---------------------------------------------------------------------------\u001b[0m",
      "\u001b[1;31mNameError\u001b[0m                                 Traceback (most recent call last)",
      "\u001b[1;32m~\\AppData\\Local\\Temp/ipykernel_8688/640432941.py\u001b[0m in \u001b[0;36m<module>\u001b[1;34m\u001b[0m\n\u001b[1;32m----> 1\u001b[1;33m \u001b[0mgrid_pos\u001b[0m\u001b[1;33m.\u001b[0m\u001b[0mhead\u001b[0m\u001b[1;33m(\u001b[0m\u001b[1;33m)\u001b[0m\u001b[1;33m\u001b[0m\u001b[1;33m\u001b[0m\u001b[0m\n\u001b[0m",
      "\u001b[1;31mNameError\u001b[0m: name 'grid_pos' is not defined"
     ]
    }
   ],
   "source": [
    "grid_pos.head()\n"
   ]
  },
  {
   "cell_type": "code",
   "execution_count": 3,
   "id": "e9894cc3",
   "metadata": {},
   "outputs": [],
   "source": [
    "# compressed_set_validation[compressed_set_validation['Sequence_ID' == seq_id]]\n"
   ]
  },
  {
   "cell_type": "code",
   "execution_count": 4,
   "id": "8493c506",
   "metadata": {},
   "outputs": [
    {
     "ename": "NameError",
     "evalue": "name 'compressed_set_validation' is not defined",
     "output_type": "error",
     "traceback": [
      "\u001b[1;31m---------------------------------------------------------------------------\u001b[0m",
      "\u001b[1;31mNameError\u001b[0m                                 Traceback (most recent call last)",
      "\u001b[1;32m~\\AppData\\Local\\Temp/ipykernel_8688/576167326.py\u001b[0m in \u001b[0;36m<module>\u001b[1;34m\u001b[0m\n\u001b[0;32m      9\u001b[0m \u001b[0mactual\u001b[0m \u001b[1;33m=\u001b[0m \u001b[1;33m[\u001b[0m\u001b[1;33m]\u001b[0m\u001b[1;33m\u001b[0m\u001b[1;33m\u001b[0m\u001b[0m\n\u001b[0;32m     10\u001b[0m \u001b[0mpredicted\u001b[0m \u001b[1;33m=\u001b[0m \u001b[1;33m[\u001b[0m\u001b[1;33m]\u001b[0m\u001b[1;33m\u001b[0m\u001b[1;33m\u001b[0m\u001b[0m\n\u001b[1;32m---> 11\u001b[1;33m \u001b[1;32mfor\u001b[0m \u001b[0mseq_id\u001b[0m \u001b[1;32min\u001b[0m \u001b[0mcompressed_set_validation\u001b[0m\u001b[1;33m[\u001b[0m\u001b[1;34m'Sequence_ID'\u001b[0m\u001b[1;33m]\u001b[0m\u001b[1;33m.\u001b[0m\u001b[0mvalues\u001b[0m\u001b[1;33m:\u001b[0m\u001b[1;33m\u001b[0m\u001b[1;33m\u001b[0m\u001b[0m\n\u001b[0m\u001b[0;32m     12\u001b[0m     \u001b[0mpatterns\u001b[0m \u001b[1;33m=\u001b[0m \u001b[0mcompressed_set_validation\u001b[0m\u001b[1;33m[\u001b[0m\u001b[0mcompressed_set_validation\u001b[0m\u001b[1;33m[\u001b[0m\u001b[1;34m'Sequence_ID'\u001b[0m\u001b[1;33m]\u001b[0m \u001b[1;33m==\u001b[0m \u001b[0mseq_id\u001b[0m\u001b[1;33m]\u001b[0m\u001b[1;33m[\u001b[0m\u001b[1;34m'Event_Pattern'\u001b[0m\u001b[1;33m]\u001b[0m\u001b[1;33m.\u001b[0m\u001b[0mvalues\u001b[0m\u001b[1;33m[\u001b[0m\u001b[1;36m0\u001b[0m\u001b[1;33m]\u001b[0m\u001b[1;33m.\u001b[0m\u001b[0msplit\u001b[0m\u001b[1;33m(\u001b[0m\u001b[1;34m','\u001b[0m\u001b[1;33m)\u001b[0m\u001b[1;33m\u001b[0m\u001b[1;33m\u001b[0m\u001b[0m\n\u001b[0;32m     13\u001b[0m     \u001b[0mpos\u001b[0m \u001b[1;33m=\u001b[0m \u001b[1;33m[\u001b[0m\u001b[1;33m]\u001b[0m\u001b[1;33m\u001b[0m\u001b[1;33m\u001b[0m\u001b[0m\n",
      "\u001b[1;31mNameError\u001b[0m: name 'compressed_set_validation' is not defined"
     ]
    }
   ],
   "source": [
    "def safe_log(x,y):\n",
    "   try:\n",
    "      lg = np.log(x/y)\n",
    "   except:\n",
    "      lg = 0\n",
    "   return lg\n",
    "\n",
    "# predict on out of sample data\n",
    "actual = []\n",
    "predicted = []\n",
    "for seq_id in compressed_set_validation['Sequence_ID'].values:\n",
    "    patterns = compressed_set_validation[compressed_set_validation['Sequence_ID'] == seq_id]['Event_Pattern'].values[0].split(',')\n",
    "    pos = []\n",
    "    neg = []\n",
    "    log_odds = []\n",
    "    \n",
    "    for id in range(0, len(patterns)-1):\n",
    "        # get log odds\n",
    "        # logOdds = log(tp(i,j) / tn(i,j)\n",
    "        if (patterns[id] in list(grid_pos) and patterns[id+1] in list(grid_pos) and patterns[id] in list(grid_neg) and patterns[id+1] in list(grid_neg)):\n",
    "                \n",
    "            numerator = grid_pos[patterns[id]][patterns[id+1]]\n",
    "            denominator = grid_neg[patterns[id]][patterns[id+1]]\n",
    "            if (numerator == 0 and denominator == 0):\n",
    "                log_value =0\n",
    "            elif (denominator == 0):\n",
    "                log_value = np.log(numerator / 0.00001)\n",
    "            elif (numerator == 0):\n",
    "                log_value = np.log(0.00001 / denominator)\n",
    "            else:\n",
    "                log_value = np.log(numerator/denominator)\n",
    "        else:\n",
    "            log_value = 0\n",
    "        \n",
    "        log_odds.append(log_value)\n",
    "        \n",
    "        pos.append(numerator)\n",
    "        neg.append(denominator)\n",
    "      \n",
    "    print('outcome:', compressed_set_validation[compressed_set_validation['Sequence_ID']==seq_id]['Outcome_Next_Day_Direction'].values[0])\n",
    "    print(sum(pos)/sum(neg))\n",
    "    print(sum(log_odds))\n",
    "\n",
    "    actual.append(compressed_set_validation[compressed_set_validation['Sequence_ID']==seq_id]['Outcome_Next_Day_Direction'].values[0])\n",
    "    predicted.append(sum(log_odds))\n",
    "\n",
    "from sklearn.metrics import confusion_matrix\n",
    "\n",
    "confusion_matrix(actual, [1 if p > 0 else 0 for p in predicted])"
   ]
  },
  {
   "cell_type": "code",
   "execution_count": null,
   "id": "5d5cd0df",
   "metadata": {},
   "outputs": [],
   "source": []
  }
 ],
 "metadata": {
  "kernelspec": {
   "display_name": "Python 3 (ipykernel)",
   "language": "python",
   "name": "python3"
  },
  "language_info": {
   "codemirror_mode": {
    "name": "ipython",
    "version": 3
   },
   "file_extension": ".py",
   "mimetype": "text/x-python",
   "name": "python",
   "nbconvert_exporter": "python",
   "pygments_lexer": "ipython3",
   "version": "3.9.7"
  }
 },
 "nbformat": 4,
 "nbformat_minor": 5
}
